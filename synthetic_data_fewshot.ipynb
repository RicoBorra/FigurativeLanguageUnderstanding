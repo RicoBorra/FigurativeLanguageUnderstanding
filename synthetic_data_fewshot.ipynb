{
 "cells": [
  {
   "cell_type": "code",
   "execution_count": 1,
   "metadata": {},
   "outputs": [
    {
     "name": "stderr",
     "output_type": "stream",
     "text": [
      "Special tokens have been added in the vocabulary, make sure the associated word embeddings are fine-tuned or trained.\n"
     ]
    }
   ],
   "source": [
    "from transformers import AutoModelForCausalLM, AutoTokenizer, pipeline\n",
    "from random import randint\n",
    "from pathlib import Path\n",
    "import os\n",
    "\n",
    "NUM_SAMPLES = 2\n",
    "NUM_ITER = 200  # 200 (num_iter) * 5 (batch_size) * 8 (types) = 8k\n",
    "BATCH_SIZE = 5\n",
    "BASE_DIR = Path(\".\")\n",
    "filename = \"synthetic_data.tsv\"\n",
    "\n",
    "model_name_or_path = \"TheBloke/CapybaraHermes-2.5-Mistral-7B-GPTQ\"\n",
    "revision = \"main\"\n",
    "\n",
    "model = AutoModelForCausalLM.from_pretrained(\n",
    "    model_name_or_path, device_map=\"auto\", trust_remote_code=False, revision=revision\n",
    ")\n",
    "\n",
    "tokenizer = AutoTokenizer.from_pretrained(model_name_or_path, use_fast=True)\n",
    "prompt = \"give me one sample\"\n",
    "# prompt_template = f\"<|im_start|>system\\n{system_message}<|im_end|>\\n<|im_start|>user\\n{prompt}<|im_end|>\\n<|im_start|>assistant\\n\"\n",
    "\n",
    "if filename not in os.listdir(BASE_DIR):\n",
    "    with open(BASE_DIR / filename, \"w\", encoding=\"utf-8\") as f:\n",
    "        f.write(\"hypothesis\\tpremise\\tlabel\\texplanation\\ttype\" + \"\\n\")"
   ]
  },
  {
   "cell_type": "code",
   "execution_count": 2,
   "metadata": {},
   "outputs": [],
   "source": [
    "from datasets import load_dataset\n",
    "\n",
    "flute_ds = load_dataset(\"ColumbiaNLP/FLUTE\")"
   ]
  },
  {
   "cell_type": "code",
   "execution_count": 3,
   "metadata": {},
   "outputs": [],
   "source": [
    "def get_samples_string(ds):\n",
    "    samples = \"\"\n",
    "    for i in range(NUM_SAMPLES):\n",
    "        sample = ds[randint(0, len(ds) - 1)]\n",
    "        samples += f\"\"\"\\nsample {i+1}\\n<Hypothesis>: {sample['hypothesis']}\\n<Premise>: {sample['premise']}\\n<Label>: {sample['label']}\\n<Explanation>: {sample['explanation']}\\n\"\"\"\n",
    "    return samples"
   ]
  },
  {
   "cell_type": "code",
   "execution_count": 4,
   "metadata": {},
   "outputs": [],
   "source": [
    "def get_model_output(ds, specific_msg):\n",
    "    samples = get_samples_string(ds)\n",
    "    system_message = specific_msg + samples + \"\\n\"\n",
    "    prompt_template = f\"<|im_start|>system\\n{system_message}<|im_end|>\\n<|im_start|>user\\n{prompt}<|im_end|>\\n<|im_start|>assistant\\n\"\n",
    "\n",
    "    input_ids = tokenizer(\n",
    "        BATCH_SIZE * [prompt_template], return_tensors=\"pt\"\n",
    "    ).input_ids.cuda()\n",
    "    output = model.generate(\n",
    "        inputs=input_ids,\n",
    "        temperature=0.7,\n",
    "        do_sample=True,\n",
    "        top_p=0.95,\n",
    "        top_k=40,\n",
    "        max_new_tokens=256,\n",
    "    )\n",
    "    return output"
   ]
  },
  {
   "cell_type": "code",
   "execution_count": 5,
   "metadata": {},
   "outputs": [],
   "source": [
    "def parse_out(s):\n",
    "    start = s.find(\"assistant\\n\") + len(\"assistant\\n\")\n",
    "    s = s[start:]\n",
    "    end = s.find(\"<|im_end|>\")\n",
    "    s = s[:end]\n",
    "\n",
    "    fields = s.splitlines()\n",
    "\n",
    "    if len(fields) != 4:\n",
    "        return (0,)\n",
    "\n",
    "    fields = [f[f.find(\":\") + 2 :] for f in fields]\n",
    "    hyp, prem, _, exp = fields\n",
    "    return hyp, prem, exp"
   ]
  },
  {
   "cell_type": "code",
   "execution_count": 6,
   "metadata": {},
   "outputs": [],
   "source": [
    "def do_the_thing(ds, specific_msg, label, tipo):\n",
    "    for _ in range(NUM_ITER):\n",
    "        output = get_model_output(ds, specific_msg)\n",
    "        output = tokenizer.batch_decode(output)\n",
    "        output = [parse_out(out) for out in output]\n",
    "\n",
    "        # save to file\n",
    "        for out in output:\n",
    "            if len(out) != 3:\n",
    "                continue\n",
    "            hyp, prem, exp = out\n",
    "            with open(BASE_DIR / filename, \"a\", encoding=\"utf-8\") as f:\n",
    "                f.write(f\"{hyp}\\t{prem}\\t{label}\\t{exp}\\t{tipo}\" + \"\\n\")"
   ]
  },
  {
   "cell_type": "markdown",
   "metadata": {},
   "source": [
    "# Sarcasm\n",
    "\n",
    "There's only contradiction here\n"
   ]
  },
  {
   "cell_type": "code",
   "execution_count": 7,
   "metadata": {},
   "outputs": [],
   "source": [
    "sarcasm_ds = flute_ds[\"train\"].filter(lambda x: x[\"type\"] == \"Sarcasm\")"
   ]
  },
  {
   "cell_type": "markdown",
   "metadata": {},
   "source": [
    "## Contradiction\n"
   ]
  },
  {
   "cell_type": "code",
   "execution_count": 8,
   "metadata": {},
   "outputs": [
    {
     "name": "stderr",
     "output_type": "stream",
     "text": [
      "/home/ritam/Documents/polito/dnlp/FigurativeLanguageUnderstanding/.venv/lib/python3.11/site-packages/transformers/generation/utils.py:1473: UserWarning: You have modified the pretrained model configuration to control generation. This is a deprecated strategy to control generation and will be removed soon, in a future version. Please use and modify the model generation configuration (see https://huggingface.co/docs/transformers/generation_strategies#default-text-generation-configuration )\n",
      "  warnings.warn(\n"
     ]
    }
   ],
   "source": [
    "specific_msg = \"\"\"You should provide examples of sarcastic sentences (hypothesis) that refer to a situation (premise) and explain why there is a contradiction (explanation) \n",
    "Use these samples of hypothesis, premise, label, and explanation and adhere to this format when replying\n",
    "\"\"\"\n",
    "\n",
    "do_the_thing(sarcasm_ds, specific_msg, \"Contradiction\", \"Sarcasm\")"
   ]
  },
  {
   "cell_type": "markdown",
   "metadata": {},
   "source": [
    "# Idiom\n"
   ]
  },
  {
   "cell_type": "code",
   "execution_count": 9,
   "metadata": {},
   "outputs": [],
   "source": [
    "idiom_ds = flute_ds[\"train\"].filter(lambda x: x[\"type\"] == \"Idiom\")\n",
    "con_idiom_ds = idiom_ds.filter(lambda x: x[\"label\"] == \"Contradiction\")\n",
    "ent_idiom_ds = idiom_ds.filter(lambda x: x[\"label\"] == \"Entailment\")"
   ]
  },
  {
   "cell_type": "markdown",
   "metadata": {},
   "source": [
    "## Contradiction\n"
   ]
  },
  {
   "cell_type": "code",
   "execution_count": 10,
   "metadata": {},
   "outputs": [],
   "source": [
    "specific_msg = \"\"\"You should provide examples of idiomatic expressions being incorrectly used (hypothesis) that refer to a situation (premise) and explain why they are not the correct idiom to be used in that setting (explanation) \n",
    "Use these samples of hypothesis, premise, label, and explanation and adhere to this format when replying\n",
    "\"\"\"\n",
    "\n",
    "do_the_thing(con_idiom_ds, specific_msg, \"Contradiction\", \"Idiom\")"
   ]
  },
  {
   "cell_type": "markdown",
   "metadata": {},
   "source": [
    "## Entailment\n"
   ]
  },
  {
   "cell_type": "code",
   "execution_count": 11,
   "metadata": {},
   "outputs": [],
   "source": [
    "specific_msg = \"\"\"You should provide examples of idiomatic expressions being correctly used (hypothesis) that refer to a situation (premise) and explain why they are the correct idiom to be used in that setting (explanation) \n",
    "Use these samples of hypothesis, premise, label, and explanation and adhere to this format when replying\n",
    "\"\"\"\n",
    "\n",
    "do_the_thing(ent_idiom_ds, specific_msg, \"Entailment\", \"Idiom\")"
   ]
  },
  {
   "cell_type": "markdown",
   "metadata": {},
   "source": [
    "# Metaphor\n"
   ]
  },
  {
   "cell_type": "code",
   "execution_count": 12,
   "metadata": {},
   "outputs": [],
   "source": [
    "meta_ds = flute_ds[\"train\"].filter(lambda x: x[\"type\"] == \"Metaphor\")\n",
    "con_meta_ds = meta_ds.filter(lambda x: x[\"label\"] == \"Contradiction\")\n",
    "ent_meta_ds = meta_ds.filter(lambda x: x[\"label\"] == \"Entailment\")"
   ]
  },
  {
   "cell_type": "markdown",
   "metadata": {},
   "source": [
    "## Contradiction\n"
   ]
  },
  {
   "cell_type": "code",
   "execution_count": 13,
   "metadata": {},
   "outputs": [],
   "source": [
    "specific_msg = \"\"\"You should provide examples of metaphoric expressions being incorrectly used (hypothesis) that refer to a situation (premise) and explain why they are not the correct metaphor to be used in that setting (explanation) \n",
    "Use these samples of hypothesis, premise, label, and explanation and adhere to this format when replying\n",
    "\"\"\"\n",
    "\n",
    "do_the_thing(con_meta_ds, specific_msg, \"Contradiction\", \"Metaphor\")"
   ]
  },
  {
   "cell_type": "markdown",
   "metadata": {},
   "source": [
    "## Entailment\n"
   ]
  },
  {
   "cell_type": "code",
   "execution_count": 14,
   "metadata": {},
   "outputs": [],
   "source": [
    "specific_msg = \"\"\"You should provide examples of metaphoric expressions being correctly used (hypothesis) that refer to a situation (premise) and explain why they are the correct metaphor to be used in that setting (explanation) \n",
    "Use these samples of hypothesis, premise, label, and explanation and adhere to this format when replying\n",
    "\"\"\"\n",
    "\n",
    "do_the_thing(ent_meta_ds, specific_msg, \"Entailment\", \"Metaphor\")"
   ]
  },
  {
   "cell_type": "markdown",
   "metadata": {},
   "source": [
    "# Simile\n"
   ]
  },
  {
   "cell_type": "code",
   "execution_count": 15,
   "metadata": {},
   "outputs": [],
   "source": [
    "sim_ds = flute_ds[\"train\"].filter(lambda x: x[\"type\"] == \"Simile\")\n",
    "con_sim_ds = sim_ds.filter(lambda x: x[\"label\"] == \"Contradiction\")\n",
    "ent_sim_ds = sim_ds.filter(lambda x: x[\"label\"] == \"Entailment\")"
   ]
  },
  {
   "cell_type": "markdown",
   "metadata": {},
   "source": [
    "## Contradiction\n"
   ]
  },
  {
   "cell_type": "code",
   "execution_count": 16,
   "metadata": {},
   "outputs": [],
   "source": [
    "specific_msg = \"\"\"You should provide examples of a simile being incorrectly used (hypothesis) that refer to a situation (premise) and explain why they are not the correct simile to be used in that setting (explanation) \n",
    "Remember that in a simile you should always use the word \"like\"\n",
    "Use these samples of hypothesis, premise, label, and explanation and adhere to this format when replying\n",
    "\"\"\"\n",
    "\n",
    "do_the_thing(con_sim_ds, specific_msg, \"Contradiction\", \"Simile\")"
   ]
  },
  {
   "cell_type": "markdown",
   "metadata": {},
   "source": [
    "## Entailment\n"
   ]
  },
  {
   "cell_type": "code",
   "execution_count": 17,
   "metadata": {},
   "outputs": [],
   "source": [
    "specific_msg = \"\"\"You should provide examples of a simile being correctly used (hypothesis) that refer to a situation (premise) and explain why they are the correct simile to be used in that setting (explanation)\n",
    "Remember that in a simile you should always use the word \"like\"\n",
    "Use these samples of hypothesis, premise, label, and explanation and adhere to this format when replying\n",
    "\"\"\"\n",
    "\n",
    "do_the_thing(ent_sim_ds, specific_msg, \"Entailment\", \"Simile\")"
   ]
  },
  {
   "cell_type": "markdown",
   "metadata": {},
   "source": [
    "# Creative Paraphrase\n"
   ]
  },
  {
   "cell_type": "code",
   "execution_count": 18,
   "metadata": {},
   "outputs": [],
   "source": [
    "par_ds = flute_ds[\"train\"].filter(lambda x: x[\"type\"] == \"CreativeParaphrase\")"
   ]
  },
  {
   "cell_type": "markdown",
   "metadata": {},
   "source": [
    "## Entailment\n"
   ]
  },
  {
   "cell_type": "code",
   "execution_count": 19,
   "metadata": {},
   "outputs": [],
   "source": [
    "specific_msg = \"\"\"You should provide examples of a creative paraphrase being correctly used (hypothesis) that refer to a situation (premise) and explain why they are the correct paraphrase to be used in that setting (explanation) \n",
    "Use these samples of hypothesis, premise, label, and explanation and adhere to this format when replying\n",
    "\"\"\"\n",
    "\n",
    "do_the_thing(par_ds, specific_msg, \"Entailment\", \"CreativeParaphrase\")"
   ]
  }
 ],
 "metadata": {
  "kernelspec": {
   "display_name": "Python 3",
   "language": "python",
   "name": "python3"
  },
  "language_info": {
   "codemirror_mode": {
    "name": "ipython",
    "version": 3
   },
   "file_extension": ".py",
   "mimetype": "text/x-python",
   "name": "python",
   "nbconvert_exporter": "python",
   "pygments_lexer": "ipython3",
   "version": "3.11.7"
  }
 },
 "nbformat": 4,
 "nbformat_minor": 2
}
