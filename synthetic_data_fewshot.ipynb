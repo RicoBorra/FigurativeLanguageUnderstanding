{
 "cells": [
  {
   "cell_type": "code",
   "execution_count": 1,
   "metadata": {},
   "outputs": [
    {
     "name": "stderr",
     "output_type": "stream",
     "text": [
      "Special tokens have been added in the vocabulary, make sure the associated word embeddings are fine-tuned or trained.\n"
     ]
    }
   ],
   "source": [
    "from transformers import AutoModelForCausalLM, AutoTokenizer, pipeline\n",
    "from random import randint\n",
    "NUM_SAMPLES = 2\n",
    "\n",
    "model_name_or_path = \"TheBloke/CapybaraHermes-2.5-Mistral-7B-GPTQ\"\n",
    "revision = \"main\"\n",
    "\n",
    "model = AutoModelForCausalLM.from_pretrained(model_name_or_path,\n",
    "                                             device_map=\"auto\",\n",
    "                                             trust_remote_code=False,\n",
    "                                             revision=revision)\n",
    "\n",
    "tokenizer = AutoTokenizer.from_pretrained(model_name_or_path, use_fast=True)\n",
    "prompt = \"give me one sample\"\n",
    "#prompt_template = f\"<|im_start|>system\\n{system_message}<|im_end|>\\n<|im_start|>user\\n{prompt}<|im_end|>\\n<|im_start|>assistant\\n\""
   ]
  },
  {
   "cell_type": "code",
   "execution_count": 2,
   "metadata": {},
   "outputs": [],
   "source": [
    "from datasets import load_dataset\n",
    "\n",
    "flute_ds = load_dataset(\"ColumbiaNLP/FLUTE\")"
   ]
  },
  {
   "cell_type": "code",
   "execution_count": 3,
   "metadata": {},
   "outputs": [],
   "source": [
    "def get_samples_string(ds):\n",
    "    samples = \"\"\n",
    "    for i in range(NUM_SAMPLES):\n",
    "        sample = ds[randint(0, len(ds))]\n",
    "        samples += f\"\"\"\\nsample {i+1}\\n<Hypothesis>: {sample['hypothesis']}\\n<Premise>: {sample['premise']}\\n<Label>: {sample['label']}\\n<Explanation>: {sample['explanation']}\\n\"\"\"\n",
    "    return samples"
   ]
  },
  {
   "cell_type": "code",
   "execution_count": 50,
   "metadata": {},
   "outputs": [],
   "source": [
    "def get_model_output(ds, specific_msg):\n",
    "    samples = get_samples_string(ds)\n",
    "    system_message = specific_msg + samples + \"\\n\"\n",
    "    prompt_template = f\"<|im_start|>system\\n{system_message}<|im_end|>\\n<|im_start|>user\\n{prompt}<|im_end|>\\n<|im_start|>assistant\\n\"\n",
    "\n",
    "    input_ids = tokenizer(5*[prompt_template], return_tensors='pt').input_ids.cuda()\n",
    "    output = model.generate(inputs=input_ids, temperature=0.7, do_sample=True, top_p=0.95, top_k=40, max_new_tokens=256)\n",
    "    return output"
   ]
  },
  {
   "cell_type": "markdown",
   "metadata": {},
   "source": [
    "# Sarcasm\n",
    "There's only contradiction here"
   ]
  },
  {
   "cell_type": "code",
   "execution_count": 51,
   "metadata": {},
   "outputs": [],
   "source": [
    "sarcasm_ds = flute_ds['train'].filter(lambda x: x['type'] == \"Sarcasm\")"
   ]
  },
  {
   "cell_type": "markdown",
   "metadata": {},
   "source": [
    "## Contradiction"
   ]
  },
  {
   "cell_type": "code",
   "execution_count": 58,
   "metadata": {},
   "outputs": [],
   "source": [
    "specific_msg = \"\"\"You should provide examples of sarcastic sentences (hypothesis) that refer to a situation (premise) and explain why there is a contradiction (explanation) \n",
    "Use these samples of hypothesis, premise, label, and explanation and adhere to this format when replying\n",
    "\"\"\"\n",
    "\n",
    "output = get_model_output(sarcasm_ds, specific_msg)"
   ]
  },
  {
   "cell_type": "code",
   "execution_count": 62,
   "metadata": {},
   "outputs": [
    {
     "name": "stdout",
     "output_type": "stream",
     "text": [
      "<s><|im_start|> system\n",
      "You should provide examples of sarcastic sentences (hypothesis) that refer to a situation (premise) and explain why there is a contradiction (explanation) \n",
      "Use these samples of hypothesis, premise, label, and explanation and adhere to this format when replying\n",
      "\n",
      "sample 1\n",
      "<Hypothesis>: It's awesome that my boss can afford a new Mercedes when I can only afford public transport\n",
      "<Premise>: My boss just bought a new Mercedes, and I can only afford public transport\n",
      "<Label>: Contradiction\n",
      "<Explanation>: A new Mercedes car is a very expensive purchase and so the fact that someone's boss can afford it implies that they are very wealthy, while someone who can only afford public transport is likely living paycheck to paycheck and feels jealous.\n",
      "\n",
      "sample 2\n",
      "<Hypothesis>: Cleaning my toilet always feels like the most fun thing I could ever do and I feel excited every time\n",
      "<Premise>: I clean my house every week and last time I had to clean my toilet, I almost threw up.\n",
      "<Label>: Contradiction\n",
      "<Explanation>: Cleaning toilets is not a fun thing to do and is often considered as a chore which people dislike because it requires dealing with dirty, obnoxious smelling conditions.\n",
      "\n",
      "<|im_end|> \n",
      "<|im_start|> user\n",
      "give me one sample<|im_end|> \n",
      "<|im_start|> assistant\n",
      "<Hypothesis>: I absolutely love getting stuck in traffic during my daily commute, it's like my personal spa time.\n",
      "<Premise>: I spend an hour each day stuck in traffic on my way to work.\n",
      "<Label>: Contradiction\n",
      "<Explanation>: Being stuck in traffic is typically a frustrating and stressful experience for most people, as it wastes time, increases travel time, and can cause anxiety. Claiming to enjoy it and comparing it to a spa is sarcastic and implies a contradiction to the reality of the situation.<|im_end|><unk><unk><unk><unk><unk><unk><unk><unk><unk><unk><unk><unk><unk><unk><unk><unk><unk><unk><unk><unk><unk><unk><unk><unk><unk>\n"
     ]
    }
   ],
   "source": [
    "print(tokenizer.decode(output[0]))"
   ]
  },
  {
   "cell_type": "markdown",
   "metadata": {},
   "source": [
    "# Idiom"
   ]
  },
  {
   "cell_type": "code",
   "execution_count": 64,
   "metadata": {},
   "outputs": [
    {
     "data": {
      "application/vnd.jupyter.widget-view+json": {
       "model_id": "3961d76b920a410097f50f4bd3b54eb3",
       "version_major": 2,
       "version_minor": 0
      },
      "text/plain": [
       "Filter:   0%|          | 0/1768 [00:00<?, ? examples/s]"
      ]
     },
     "metadata": {},
     "output_type": "display_data"
    },
    {
     "data": {
      "application/vnd.jupyter.widget-view+json": {
       "model_id": "3a9a688a19ee4d7cb1a33b0b5ea4b893",
       "version_major": 2,
       "version_minor": 0
      },
      "text/plain": [
       "Filter:   0%|          | 0/1768 [00:00<?, ? examples/s]"
      ]
     },
     "metadata": {},
     "output_type": "display_data"
    }
   ],
   "source": [
    "idiom_ds = flute_ds['train'].filter(lambda x: x['type'] == \"Idiom\")\n",
    "con_idiom_ds = idiom_ds.filter(lambda x: x['label'] == \"Contradiction\")\n",
    "ent_idiom_ds = idiom_ds.filter(lambda x: x['label'] == \"Entailment\")"
   ]
  },
  {
   "cell_type": "markdown",
   "metadata": {},
   "source": [
    "## Contradiction"
   ]
  },
  {
   "cell_type": "code",
   "execution_count": 89,
   "metadata": {},
   "outputs": [],
   "source": [
    "specific_msg = \"\"\"You should provide examples of idiomatic expressions being incorrectly used (hypothesis) that refer to a situation (premise) and explain why they are not the correct idiom to be used in that setting (explanation) \n",
    "Use these samples of hypothesis, premise, label, and explanation and adhere to this format when replying\n",
    "\"\"\"\n",
    "\n",
    "output = get_model_output(con_idiom_ds, specific_msg)"
   ]
  },
  {
   "cell_type": "code",
   "execution_count": 94,
   "metadata": {},
   "outputs": [
    {
     "name": "stdout",
     "output_type": "stream",
     "text": [
      "<s><|im_start|> system\n",
      "You should provide examples of idiomatic expressions being incorrectly used (hypothesis) that refer to a situation (premise) and explain why they are not the correct idiom to be used in that setting (explanation) \n",
      "Use these samples of hypothesis, premise, label, and explanation and adhere to this format when replying\n",
      "\n",
      "sample 1\n",
      "<Hypothesis>: They had suddenly gone from comfortable to living on a shoestring and being behind on something as important as their mortgage.\n",
      "<Premise>: They had suddenly gone from comfortable to living very lavishly and within a large financial budget and being behind on something as important as their mortgage.\n",
      "<Label>: Contradiction\n",
      "<Explanation>: To be on a shoestring means to be on a very tight or limited financial budget, but in this context they were living very lavishly\n",
      "\n",
      "sample 2\n",
      "<Hypothesis>: By midnight, mia was feeling the effects of the alcohol, and she slowed her intake while the others continued to whoop it up.\n",
      "<Premise>: By midnight, mia was feeling the effects of the alcohol, and she slowed her intake while the others continued to not celebrate at all.\n",
      "<Label>: Contradiction\n",
      "<Explanation>: To whoop it up means to celebrate, especially with cheers and whoops, but the context describes the others not celebrating at all\n",
      "\n",
      "<|im_end|> \n",
      "<|im_start|> user\n",
      "give me one sample<|im_end|> \n",
      "<|im_start|> assistant\n",
      "<Hypothesis>: He was so nervous that his hands were clammy.\n",
      "<Premise>: He was so nervous that his hands were sweaty.\n",
      "<Label>: Contradiction\n",
      "<Explanation>: In this context, \"clammy\" refers to feeling damp or clammy, but it is not the correct idiom to describe nervousness. The correct idiom is \"sweaty,\" which means that his hands were moist with sweat due to nervousness.<|im_end|>\n"
     ]
    }
   ],
   "source": [
    "print(tokenizer.decode(output[4]))"
   ]
  },
  {
   "cell_type": "markdown",
   "metadata": {},
   "source": [
    "## Entailment"
   ]
  },
  {
   "cell_type": "code",
   "execution_count": 95,
   "metadata": {},
   "outputs": [],
   "source": [
    "specific_msg = \"\"\"You should provide examples of idiomatic expressions being correctly used (hypothesis) that refer to a situation (premise) and explain why they are the correct idiom to be used in that setting (explanation) \n",
    "Use these samples of hypothesis, premise, label, and explanation and adhere to this format when replying\n",
    "\"\"\"\n",
    "\n",
    "output = get_model_output(ent_idiom_ds, specific_msg)"
   ]
  },
  {
   "cell_type": "code",
   "execution_count": 96,
   "metadata": {},
   "outputs": [
    {
     "name": "stdout",
     "output_type": "stream",
     "text": [
      "<s><|im_start|> system\n",
      "You should provide examples of idiomatic expressions being correctly used (hypothesis) that refer to a situation (premise) and explain why they are the correct idiom to be used in that setting (explanation) \n",
      "Use these samples of hypothesis, premise, label, and explanation and adhere to this format when replying\n",
      "\n",
      "sample 1\n",
      "<Hypothesis>: Hopefully, the claim would slip through the net, but if it didn't she was in even more trouble.\n",
      "<Premise>: Hopefully, the claim would go unnoticed or be neglected, but if it didn't she was in even more trouble.\n",
      "<Label>: Entailment\n",
      "<Explanation>: To slip through the net means to go unnoticed or be neglected, and in this context it is hoped that the claim will go unnoticed.\n",
      "\n",
      "sample 2\n",
      "<Hypothesis>: \"Good enough\" Grond said now lead the way.\n",
      "<Premise>: \"Good enough\" Grond said now go ahead of me and show me the way.\n",
      "<Label>: Entailment\n",
      "<Explanation>: To lead the way means to guide or direct someone somewhere by proceeding ahead of them, which is what Grond asked the other person to do.\n",
      "\n",
      "<|im_end|> \n",
      "<|im_start|> user\n",
      "give me one sample<|im_end|> \n",
      "<|im_start|> assistant\n",
      "<Hypothesis>: She was so hungry she could eat a horse.\n",
      "<Premise>: She was extremely hungry and could eat a large meal.\n",
      "<Label>: Entailment\n",
      "<Explanation>: The idiom \"could eat a horse\" is used to express extreme hunger, implying that the person is so hungry that they could consume an unusually large meal or quantity of food. In this context, it describes the level of hunger the person is experiencing.<|im_end|><unk><unk><unk><unk><unk><unk><unk><unk><unk><unk><unk><unk><unk><unk><unk><unk><unk><unk><unk><unk><unk><unk>\n"
     ]
    }
   ],
   "source": [
    "print(tokenizer.decode(output[4]))"
   ]
  },
  {
   "cell_type": "markdown",
   "metadata": {},
   "source": [
    "# Metaphor"
   ]
  },
  {
   "cell_type": "markdown",
   "metadata": {},
   "source": [
    "# Simile"
   ]
  },
  {
   "cell_type": "markdown",
   "metadata": {},
   "source": [
    "# Creative Paraphrase"
   ]
  }
 ],
 "metadata": {
  "kernelspec": {
   "display_name": "Python 3",
   "language": "python",
   "name": "python3"
  },
  "language_info": {
   "codemirror_mode": {
    "name": "ipython",
    "version": 3
   },
   "file_extension": ".py",
   "mimetype": "text/x-python",
   "name": "python",
   "nbconvert_exporter": "python",
   "pygments_lexer": "ipython3",
   "version": "3.10.12"
  }
 },
 "nbformat": 4,
 "nbformat_minor": 2
}
